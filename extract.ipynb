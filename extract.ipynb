{
 "cells": [
  {
   "cell_type": "markdown",
   "metadata": {},
   "source": [
    "# Generating Synthetic Users\n",
    "\n",
    "Let's use `Faker` to generate some synthetic user data"
   ]
  },
  {
   "cell_type": "code",
   "execution_count": 49,
   "metadata": {},
   "outputs": [],
   "source": [
    "import instructor\n",
    "import openai\n",
    "from faker import Faker\n",
    "import random\n",
    "from pydantic import BaseModel, Field\n",
    "from typing import List\n",
    "from tqdm.asyncio import tqdm_asyncio as asyncio\n",
    "from asyncio import run\n",
    "import pandas as pd\n",
    "\n",
    "client = openai.AsyncOpenAI()\n",
    "client = instructor.from_openai(client)\n",
    "fake = Faker()"
   ]
  },
  {
   "cell_type": "code",
   "execution_count": 51,
   "metadata": {},
   "outputs": [],
   "source": [
    "\n",
    "prompt = \"\"\"\n",
    "You are a creative writer tasked with generating a detailed backstory for a language learner based on their profile. Use the provided information to create a compelling narrative about their background, motivation for learning the language, and their journey so far. Be sure to incorporate all the given details while expanding on them in a realistic and engaging way.\n",
    "\n",
    "Here's the learner's profile:\n",
    "\n",
    "{profile}\n",
    "\n",
    "Please write a backstory of approximately 300-400 words that covers the following points:\n",
    "\n",
    "1. The learner's background, including their upbringing and how it relates to their native language.\n",
    "2. Their decision to learn the target language, incorporating their occupation and learning goal.\n",
    "3. The journey of their language learning so far, mentioning their current level and learning duration.\n",
    "4. Their study habits and preferred methods, including how these fit into their daily life.\n",
    "5. Challenges they've faced and how they've worked to overcome them.\n",
    "6. How their interests have influenced their language learning process.\n",
    "7. Their future aspirations related to language learning.\n",
    "\n",
    "Make sure the backstory feels personal and authentic, with specific anecdotes or experiences that bring the learner's profile to life. The narrative should be coherent and logically connect all aspects of the learner's profile.\n",
    "\"\"\"\n",
    "\n",
    "\n",
    "class LearnerProfile(BaseModel):\n",
    "    name: str = Field(default_factory=fake.name)\n",
    "    age: int = Field(default_factory=lambda: random.randint(18, 60))\n",
    "    native_language: str = Field(default_factory=lambda: fake.language_name())\n",
    "    target_language: str = \"French\"\n",
    "    occupation: str = Field(default_factory=fake.job)\n",
    "    learning_duration: str = Field(\n",
    "        default_factory=lambda: f\"{random.randint(1, 24)} months\"\n",
    "    )\n",
    "    country_of_origin: str = Field(default_factory=fake.country)\n",
    "    study_frequency: str = Field(\n",
    "        default_factory=lambda: f\"{random.randint(3, 7)} days per week, {random.randint(30, 120)} minutes per day\"\n",
    "    )\n",
    "    interests: List[str] = Field(\n",
    "        default_factory=lambda: random.sample(\n",
    "            [\n",
    "                \"Reading\",\n",
    "                \"Cooking\",\n",
    "                \"Gardening\",\n",
    "                \"Photography\",\n",
    "                \"Hiking\",\n",
    "                \"Painting\",\n",
    "                \"Playing guitar\",\n",
    "                \"Yoga\",\n",
    "                \"Traveling\",\n",
    "                \"Chess\",\n",
    "                \"Knitting\",\n",
    "                \"Birdwatching\",\n",
    "                \"Woodworking\",\n",
    "                \"Cycling\",\n",
    "                \"Meditation\",\n",
    "            ],\n",
    "            3,\n",
    "        )\n",
    "    )\n",
    "    preferred_resources: List[str] = Field(\n",
    "        default_factory=lambda: random.sample(\n",
    "            [\n",
    "                \"Language learning apps\",\n",
    "                \"Online news articles\",\n",
    "                \"Podcasts\",\n",
    "                \"YouTube videos\",\n",
    "                \"Language exchange websites\",\n",
    "                \"Grammar books\",\n",
    "                \"Online courses\",\n",
    "            ],\n",
    "            3,\n",
    "        )\n",
    "    )\n",
    "    current_level: str = Field(\n",
    "        default_factory=lambda: random.choice([\"A1\", \"A2\", \"B1\"])\n",
    "    )"
   ]
  },
  {
   "cell_type": "code",
   "execution_count": 52,
   "metadata": {},
   "outputs": [
    {
     "name": "stderr",
     "output_type": "stream",
     "text": [
      "100%|██████████| 2/2 [00:06<00:00,  3.21s/it]\n"
     ]
    }
   ],
   "source": [
    "class GeneratedBackstory(BaseModel):\n",
    "    \"\"\"\n",
    "    Represents a generated backstory for a language learner.\n",
    "\n",
    "    This class encapsulates the backstory text generated based on a learner's profile.\n",
    "    The backstory is a detailed narrative (300-400 words) that covers various aspects\n",
    "    of the learner's language learning journey, including:\n",
    "\n",
    "    1. Personal background and native language context\n",
    "    2. Motivation for learning the target language\n",
    "    3. Progress in language learning so far\n",
    "    4. Study habits and preferred learning methods\n",
    "    5. Challenges faced and overcome\n",
    "    6. Influence of personal interests on language learning\n",
    "    7. Future language learning aspirations\n",
    "\n",
    "    The backstory aims to provide a compelling and authentic narrative that brings\n",
    "    the learner's profile to life with specific anecdotes and experiences.\n",
    "\n",
    "    Attributes:\n",
    "        backstory (str): The generated backstory text.\n",
    "    \"\"\"\n",
    "\n",
    "    user_backstory: str\n",
    "\n",
    "\n",
    "async def generate_backstory(user: LearnerProfile):\n",
    "    response = await client.chat.completions.create(\n",
    "        messages=[\n",
    "            {\n",
    "                \"role\": \"system\",\n",
    "                \"content\": prompt.format(profile=user.model_dump_json()),\n",
    "            },\n",
    "        ],\n",
    "        model=\"gpt-4o-mini\",\n",
    "        response_model=GeneratedBackstory,\n",
    "    )\n",
    "    return response\n",
    "\n",
    "\n",
    "async def generate_multiple_backstories(num_backstories: int = 4):\n",
    "    learners = [LearnerProfile() for _ in range(num_backstories)]\n",
    "    tasks = [generate_backstory(learner) for learner in learners]\n",
    "    results = await asyncio.gather(*tasks)\n",
    "\n",
    "    data = [\n",
    "        {\n",
    "            \"User Information\": learner.model_dump_json(),\n",
    "            \"backstory\": result.user_backstory,\n",
    "        }\n",
    "        for learner, result in zip(learners, results)\n",
    "    ]\n",
    "\n",
    "    df = pd.DataFrame(data)\n",
    "    df.to_csv(\"backstories.csv\", index=False)\n",
    "\n",
    "\n",
    "await generate_multiple_backstories(2)"
   ]
  },
  {
   "cell_type": "markdown",
   "metadata": {},
   "source": [
    "# Synthetic Users\n",
    "\n",
    "Let's see how our users behave and look like\n"
   ]
  },
  {
   "cell_type": "code",
   "execution_count": 58,
   "metadata": {},
   "outputs": [
    {
     "name": "stdout",
     "output_type": "stream",
     "text": [
      "Shannon Rios, a warm-hearted therapist with a passion for horticulture, was born in the picturesque landscapes of Austria. Growing up, she was surrounded by lush gardens where her\n",
      "family, who immigrated from Indonesia, cultivated unique plants that spoke to her native language. Her parents often shared stories of their homeland, weaving a rich tapestry of\n",
      "Indonesian culture into her upbringing. This connection to her native language created a deep-rooted appreciation for the transformative power of communication.  At age 42, after\n",
      "years of helping others heal through therapy, Shannon decided to embark on a new journey: learning French. The motivation stemmed from her desire to enhance her career. She\n",
      "believed that being bilingual would not only broaden her professional reach but also allow her to connect with a diverse clientele in her therapeutic practice. Additionally, the\n",
      "melodic tones of the French language captured her heart, prompting her to start this language-learning endeavor just a month ago.  Within the first month of her learning journey,\n",
      "Shannon has advanced to a solid B1 level. Her commitment is impressive; she dedicates almost an hour and ten minutes every day, immersing herself in the study of French, treating\n",
      "it with the same devotion she gives her clients. Seven days a week, she dives into grammar books, explores language exchange websites, and listens to engaging podcasts. These\n",
      "resources have made French more relatable, bridging the gap between theory and practice.  Along the way, Shannon has faced challenges, notably the complex grammar rules and\n",
      "pronunciation nuances. Instead of becoming discouraged, she harnessed her mediation skills to embrace mindfulness in her learning process, treating mistakes as valuable lessons\n",
      "rather than setbacks.   Her interests in photography and chess have subtly influenced her studies, as she often snaps photos of nature that spark French vocabulary related to the\n",
      "flora she loves, while chess's strategic planning mirrors her approach to mastering the language.  Looking to the future, Shannon dreams of becoming fluent in French and possibly\n",
      "incorporating it into her therapeutic practice. She envisions facilitating workshops in French on mindfulness and horticulture, blending her worlds in a harmonious exchange. The\n",
      "journey is just beginning for Shannon, and with her heart set on growth, she continues to bloom alongside the words she learns.\n",
      "====\n",
      "Ralph Christensen, a 41-year-old geoscientist, was born into a vibrant and culturally diverse family in Afghanistan. Growing up, the sounds of Luxembourgish resonated throughout\n",
      "his household, spoken fluently by his parents who had immigrated to Afghanistan from Luxembourg. This unique blend of cultures instilled in Ralph a profound appreciation for\n",
      "languages and the stories they convey. However, the political landscape of Afghanistan overshadowed his childhood, making it challenging to nurture his love for different tongues.\n",
      "Having settled in Luxembourg years later due to unforeseen circumstances, Ralph yearned to connect more deeply with the local community and utilize his professional expertise. His\n",
      "role as a geoscientist often placed him in collaboration with French-speaking colleagues from across Europe. This motivated him to learn French, not just as a linguistic endeavor\n",
      "but as a means to foster connections and enhance teamwork in his field.   For five months now, Ralph has dedicated himself to mastering French, progressing to a B1 level through\n",
      "consistent, daily practice. He has embraced a study routine that typically sees him engaging with the language for 53 minutes every day, a discipline he incorporates seamlessly\n",
      "into his busy life. Online courses, captivating podcasts, and language exchange platforms have become his primary resources, allowing him to immerse himself in the language despite\n",
      "his demanding profession.   Challenges have not been in short supply; Ralph faced moments of self-doubt, especially during the early stages when verb conjugation felt more like a\n",
      "puzzle than a language feature. To overcome this, he adopted a strategy of combining his interests in cooking and baking. He began following French recipes, an imaginative approach\n",
      "that turned language learning into a practical and enjoyable experience. Each dish became a lesson, enriching his vocabulary while tantalizing his taste buds.  Ralph’s passion for\n",
      "woodworking, too, has played a role in his language journey. He has sought out French woodworking forums, allowing him to mingle with fellow enthusiasts, practice his grammar, and\n",
      "exchange project ideas. As his fluency grows, so does his aspiration to travel to French-speaking regions—a future where he can explore the landscapes he studies and converse with\n",
      "local artisans.  Ultimately, Ralph envisions a world where he effortlessly converses in French, emboldened by language and culture, solidifying his role as both a scientist and a\n",
      "global citizen.\n",
      "====\n"
     ]
    }
   ],
   "source": [
    "from textwrap import wrap\n",
    "\n",
    "df = pd.read_csv(\"./backstories.csv\")\n",
    "# Display the entire DataFrame, including the full backstory\n",
    "\n",
    "backstories = df['backstory']\n",
    "\n",
    "for backstory in backstories:\n",
    "    print('\\n'.join(wrap(backstory, 180)))\n",
    "    print(\"====\")\n",
    "\n",
    "\n"
   ]
  },
  {
   "cell_type": "markdown",
   "metadata": {},
   "source": [
    "## Generating Language Errors\n",
    "\n",
    "We now take in a language learner's profile and use it to simulate a short conversation ( with errors )"
   ]
  },
  {
   "cell_type": "code",
   "execution_count": 48,
   "metadata": {},
   "outputs": [],
   "source": [
    "from pydantic import BaseModel, field_validator, Field, model_validator\n",
    "from typing import Literal,Union\n",
    "\n",
    "roles = Literal[\"assistant\", \"user\"]\n",
    "\n",
    "class Message(BaseModel):\n",
    "    role: roles\n",
    "    content: str\n",
    "\n",
    "class GrammaticalError(BaseModel):\n",
    "    root_verb:str\n",
    "    tense: Literal[\"présent\", \"passé composé\", \"imparfait\", \"plus-que-parfait\", \"futur simple\", \"futur antérieur\", \"conditionnel présent\", \"conditionnel passé\", \"subjonctif présent\", \"subjonctif passé\", \"impératif\"]\n",
    "    explanation_of_error:str\n",
    "    incorrect_usage_example: str\n",
    "    correct_example:str\n",
    "\n",
    "class Vocabulary(BaseModel):\n",
    "    vocabulary_term:str\n",
    "    explanation_of_error:str\n",
    "    incorrect_vocabulary_example: str\n",
    "    usage_examples:list[str]\n",
    "    \n",
    "\n",
    "class Mistake(BaseModel):\n",
    "    mistake: Union[GrammaticalError, Vocabulary]\n",
    "    citation: str = Field(description=\"Original message where the mistake occurs in the conversation\")\n",
    "\n",
    "class SimulatedConversation(BaseModel):\n",
    "    conversation:list[Message]\n",
    "    mistake_breakdown: list[Mistake] = Field(description=\"The breakdown of the mistakes the user made in the conversation\")\n",
    "\n",
    "    @field_validator(\"conversation\")\n",
    "    @classmethod\n",
    "    def validate_valid_structure(cls, v:list[Message]):\n",
    "        if len(v) < 2:\n",
    "            raise ValueError(\"Conversation must have at least 3 messages where assistant and user roles alternate\")\n",
    "        \n",
    "        if v[0].role == \"assistant\":\n",
    "            raise ValueError(\"Conversation must start with a user message\")\n",
    "\n",
    "        expected_role:roles = \"user\"\n",
    "        for message in v:\n",
    "            if message.role != expected_role:\n",
    "                raise ValueError(\"Messages must alternate between assistant and user roles\")\n",
    "            expected_role = \"assistant\" if expected_role == \"user\" else \"user\"\n",
    "\n",
    "        return v\n",
    "\n",
    "    @model_validator(mode='after')\n",
    "    def validate_mistake_breakdown(self) -> 'SimulatedConversation':\n",
    "        if len(self.mistake_breakdown) == 0:\n",
    "            raise ValueError(\"Mistake breakdown must have at least 1 mistake\")\n",
    "        \n",
    "        for mistake in self.mistake_breakdown:\n",
    "            if not any([mistake.citation in message.content for message in self.conversation]):\n",
    "                raise ValueError(\"Mistake citation must be present in the conversation\")\n",
    "        \n",
    "        return self\n"
   ]
  },
  {
   "cell_type": "code",
   "execution_count": 13,
   "metadata": {},
   "outputs": [],
   "source": [
    "from instructor import from_openai\n",
    "from openai import OpenAI\n",
    "\n",
    "client = from_openai(OpenAI())"
   ]
  },
  {
   "cell_type": "code",
   "execution_count": 16,
   "metadata": {},
   "outputs": [
    {
     "data": {
      "text/plain": [
       "'Meredith Gilbert grew up in a tranquil Estonian village surrounded by lush forests and majestic cliffs that seemed to cradle her childhood dreams. Surrounded by the lyrical sounds of her native language, Estonian, she developed a profound appreciation for her roots. Her parents, both educators, imbued her with a love for learning, often recounting tales of their travels to far-off lands, which lit a spark of wanderlust in her heart that remains unquenchable to this day.\\n\\nAt 55, Meredith is a seasoned quarry manager, overseeing operations in the picturesque landscape that reminded her of her childhood. However, the mining industry has become more globalized, and interactions with French partners became more frequent. Recognizing the importance of communicating effectively with colleagues across borders, Meredith decided to learn French. She set her sights on achieving a conversational level, envisioning herself confidently discussing plans and negotiating contracts.\\n\\nFor the past 43 months, she has dedicated herself to learning French, starting from scratch and currently holding an A1 level. Each day, she commits to 104 minutes of study, embracing the language with a discipline that mirrors her work ethic in the quarry. Her study routine is carefully crafted, utilizing grammar books and online articles, while also engaging in language exchanges to practice with native speakers. She finds camaraderie and encouragement in the virtual communities, where members share not just their struggles but their triumphs.\\n\\nWhile her journey has not been without challenges, such as remembering verb conjugations and vocabulary, Meredith has met these obstacles head-on. She often recalls a particular afternoon spent at her desk, pouring over articles, when the realization dawned on her that persistence is key. The journey itself has become a source of pride and determination.\\n\\nOutside of her studies, Meredith’s passions for hiking and photography have enriched her language learning experience. She takes pictures of landscapes she encounters on her hikes, documenting not just her adventures but also jotting down new French words that describe the beauty around her. Her ultimate aspiration is to travel to France, capturing the enchanting sights through her camera lens while effortlessly communicating with the locals. Meredith dreams of immersing herself in French culture, sharing stories with the people she meets, and perhaps even penning a travel blog that chronicles her experiences and newfound linguistic skills.'"
      ]
     },
     "execution_count": 16,
     "metadata": {},
     "output_type": "execute_result"
    }
   ],
   "source": [
    "user_profile = df[\"backstory\"][0]\n",
    "user_profile"
   ]
  },
  {
   "cell_type": "code",
   "execution_count": 77,
   "metadata": {},
   "outputs": [],
   "source": [
    "prompt = \"\"\"\n",
    "# French Conversation Simulation Prompt\n",
    "\n",
    "You are an AI assistant tasked with simulating an entire conversation between a French language learner and their tutor. You will alternate between these two roles, creating a realistic language learning scenario. Try to make at least {number_of_mistakes} of {mistake_type} in the conversation with a maximum of 4 mistakes in this conversation.\n",
    "\n",
    "## French Learner Role\n",
    "\n",
    "When playing the role of the French learner:\n",
    "\n",
    "1. Use an intermediate level of French, forming complete sentences but making occasional mistakes.\n",
    "2. Incorporate the following types of mistakes:\n",
    "   a. Improper tense: Use incorrect verb conjugations or tenses.\n",
    "   b. Wrong word usage: Use incorrect French words that are similar in sound or meaning, or direct translations from English.\n",
    "   c. Vocabulary gaps: Use English words when you don't know the French equivalent.\n",
    "3. Show enthusiasm for learning and ask questions about language and culture.\n",
    "4. Occasionally ask for clarification or repetition.\n",
    "\n",
    "Here is some information about the french learner that you are simulating\n",
    "\n",
    "{learner_profile}\n",
    "\n",
    "## Tutor Role\n",
    "\n",
    "When playing the role of the French tutor:\n",
    "\n",
    "1. Use fluent, correct French.\n",
    "2. Be patient, encouraging, and supportive.\n",
    "3. Correct the learner's mistakes gently, providing explanations when necessary.\n",
    "4. Ask questions to encourage the learner to practice and expand their skills.\n",
    "5. Introduce new vocabulary or grammar concepts as appropriate.\n",
    "\n",
    "## Guidelines for the Conversation\n",
    "\n",
    "- Alternate between the learner and tutor roles with each message.\n",
    "- Maintain a natural flow of conversation while incorporating learning elements.\n",
    "- Ensure the learner's mistakes are noticeable but don't impede overall understanding.\n",
    "- Not every learner's sentence needs to contain a mistake. Mix correct and incorrect usage.\n",
    "- The tutor should not correct every single mistake, focusing on the most important ones.\n",
    "\n",
    "Examples of Mistake Types\n",
    "1. Improper Tense\n",
    "Tutor: Qu'est-ce que tu as fait hier? (What did you do yesterday?)\n",
    "User: Hier, je vais au parc et je lis un livre. J'ai aussi rencontré un ami pour un café.\n",
    "(Incorrect use of present tense \"vais\" instead of past tense \"suis allé(e)\")\n",
    "Tutor: Depuis combien de temps apprenez-vous le français? (How long have you been learning French?)\n",
    "User: J'apprendre le français depuis deux ans maintenant. C'est une expérience difficile mais enrichissante.\n",
    "(Incorrect infinitive \"apprendre\" instead of conjugated \"apprends\")\n",
    "\n",
    "2. Wrong Word Usage\n",
    "Tutor: Pouvez-vous me recommander un bon restaurant? (Can you recommend a good restaurant?)\n",
    "User: Oui, je peux penser à un excellent restaurant au centre-ville qui sert de délicieux fruits de mer. Ils ont des plats de poisson et de homard incroyables.\n",
    "(Incorrect use of \"penser à\" (to think of) instead of \"recommander\" (to recommend) or \"suggérer\" (to suggest))\n",
    "\n",
    "Tutor: Quelle est votre opinion sur le changement climatique? (What's your opinion on climate change?)\n",
    "User: Le changement climatique est un sérieux mouchoir qui affecte notre planète entière. Nous devons prendre des mesures pour réduire notre empreinte carbone.\n",
    "(Incorrect use of \"mouchoir\" (handkerchief) instead of \"problème\" or \"enjeu\")\n",
    "\n",
    "3. Vocabulary Gaps\n",
    "Tutor: Quelle est votre saison préférée? (What's your favorite season?)\n",
    "User: Ma saison préférée est... Je ne suis pas sûr du mot en français. En anglais, c'est \"autumn\". J'aime les feuilles colorées et l'air frais pendant cette période.\n",
    "(Using English \"autumn\" instead of French \"automne\")\n",
    "\n",
    "Tutor: Avez-vous des passe-temps? (Do you have any hobbies?)\n",
    "User: Oui, j'ai plusieurs passe-temps. J'aime lire, écouter de la musique, et... comment dit-on \"to ride a bicycle\" en français? C'est quand on roule sur un véhicule à deux roues avec des pédales.\n",
    "(Using English phrase \"to ride a bicycle\" instead of French \"faire du vélo\")\n",
    "\"\"\""
   ]
  },
  {
   "cell_type": "code",
   "execution_count": 79,
   "metadata": {},
   "outputs": [
    {
     "name": "stdout",
     "output_type": "stream",
     "text": [
      "conversation=[Message(role='user', content=\"Bonjour! Je suis très excité de pratiquer le français aujourd'hui.\"), Message(role='assistant', content=\"Bonjour Meredith! Je suis ravi de vous voir aussi enthousiaste! De quoi aimeriez-vous parler aujourd'hui?\"), Message(role='user', content=\"Je veux parler de mes hobbies. J'aime faire de la randonnée et photographie des paysages.\"), Message(role='assistant', content='C\\'est formidable! Mais attention, vous avez utilisé une petite erreur. On dit \"photographier\" au lieu de \"photographie.\" Donc, vous diriez \"j\\'aime faire de la randonnée et photographier des paysages.\" Quels types de paysages aimez-vous photographier?'), Message(role='user', content=\"J'aime photographier les montagnes et les forêts. Parfois, je vais à la plage pour voir les oiseaux et prendre des photos aussi.\"), Message(role='assistant', content='C\\'est magnifique! Juste une petite correction: vous devriez dire \"aller à la plage\" au lieu de \"aller à le plage.\" Les noms en français, comme \"plage,\" ont des articles qui changent. Quelles sont vos endroits préférés pour aller en randonnée?'), Message(role='user', content='Je préfère aller aux collines près de ma maison, c\\'est tranquille et beau. Quand je suis là, je fais beaucoup de... hmm... comment dit-on \"walking\"?'), Message(role='assistant', content='On dit \"marcher\" en français! Donc vous pourriez dire: \"je fais beaucoup de marche.\" Quels sont vos endroits préférés en Estonie pour marcher?'), Message(role='user', content=\"Il y a beaucoup d'endroits, mais mon préféré est un lac où je vais souvent. J'aime nager, mais je ne peux pas nager en hiver.\"), Message(role='assistant', content='C\\'est génial! Mais en français, on dirait plutôt \"l\\'été\" si vous parlez de l\\'été. Vous avez bien dit que vous aimez nager, mais en hiver, il peut faire très froid! Vous aimez d\\'autres activités en hiver?'), Message(role='user', content=\"Oui, j'aime faire du ski et d'autres loisirs dehors. C'est ça que j'adore! Et vous, qu'est-ce que vous aimez faire?\"), Message(role='assistant', content=\"J'adore skier aussi, surtout dans les montagnes. Et j'aime la lecture et écouter de la musique. Avez-vous des artistes ou des livres préférés en français?\"), Message(role='user', content=\"Oui, j'écoute souvent des chansons de Edith Piaf. Son musique est très belle!\"), Message(role='assistant', content='Excellente choix! Mais attention, vous devriez dire \"sa musique\" au lieu de \"son musique.\" Sa musique est effectivement très belle! Avez-vous appris des phrases françaises en écoutant ses chansons?')] mistake_breakdown=[Mistake(mistake=Vocabulary(vocabulary_term='photographie', explanation_of_error='L\\'apprenant a utilisé le terme incorrect \"photographie\" au lieu du verbe \"photographier.\"', incorrect_vocabulary_example='\"J\\'aime faire de la randonnée et photographie des paysages.\"', usage_examples=[\"J'aime photographier des oiseaux pendant mes promenades.\", 'Elle adore photographier les éléments de la nature.', 'Nous avons photographié les aurores boréales.']), citation=\"Je veux parler de mes hobbies. J'aime faire de la randonnée et photographie des paysages.\"), Mistake(mistake=GrammaticalError(root_verb='aller', tense='présent', explanation_of_error='L\\'apprenant a utilisé l\\'article incorrect \"à le plage\" qui doit être au féminin: \"à la plage.\"', incorrect_usage_example='\"aller à le plage pour voir les oiseaux.\"', correct_example='\"aller à la plage pour voir les oiseaux.\"'), citation='Parfois, je vais à la plage pour voir les oiseaux et prendre des photos aussi.'), Mistake(mistake=Vocabulary(vocabulary_term='walking', explanation_of_error='L\\'apprenant a utilisé l\\'anglais \"walking\" au lieu du terme français \"marcher.\"', incorrect_vocabulary_example='\"je fais beaucoup de... hmm... comment dit-on \\'walking\\'?\"', usage_examples=[\"Que fais-tu pour te maintenir en forme? J'aime marcher.\", 'Nous avons marché pendant des heures dans la forêt.', 'Elle fait une promenade tous les matins.']), citation='Quand je suis là, je fais beaucoup de... hmm... comment dit-on \"walking\"?'), Mistake(mistake=GrammaticalError(root_verb='aimer', tense='présent', explanation_of_error='L\\'apprenant a utilisé le mot \"son\" au lieu de \"sa\" devant un nom féminin \"musique.\"', incorrect_usage_example='\"Son musique est très belle!\"', correct_example='\"Sa musique est très belle!\"'), citation='Son musique est très belle!')]\n"
     ]
    },
    {
     "name": "stderr",
     "output_type": "stream",
     "text": [
      "/var/folders/8f/z4x7zcr951sbz0gg6q2s_sq80000gn/T/ipykernel_3173/3274192677.py:20: RuntimeWarning: coroutine 'AsyncInstructor.create' was never awaited\n",
      "  conversation = await simulate_conversation(user_profile)\n",
      "RuntimeWarning: Enable tracemalloc to get the object allocation traceback\n"
     ]
    }
   ],
   "source": [
    "import random\n",
    "\n",
    "\n",
    "def simulate_conversation(user_profile: str):\n",
    "    mistake_type = [\"improper tense\",\"wrong word usage\",\"vocabulary gaps\"]\n",
    "    number_of_mistakes = random.randint(1, 3)\n",
    "    return client.chat.completions.create(\n",
    "        messages=[\n",
    "            {\n",
    "                \"role\": \"system\",\n",
    "                \"content\": prompt.format(learner_profile=user_profile, number_of_mistakes=number_of_mistakes, mistake_type=mistake_type),\n",
    "            }\n",
    "        ],\n",
    "        model=\"gpt-4o-mini\",\n",
    "        max_retries=4,\n",
    "        response_model=SimulatedConversation,\n",
    "    )\n",
    "\n",
    "\n",
    "conversation = await simulate_conversation(user_profile)\n",
    "print(conversation)\n"
   ]
  },
  {
   "cell_type": "code",
   "execution_count": 80,
   "metadata": {},
   "outputs": [
    {
     "name": "stdout",
     "output_type": "stream",
     "text": [
      "user Bonjour! Je suis très excité de pratiquer le français aujourd'hui.\n",
      "assistant Bonjour Meredith! Je suis ravi de vous voir aussi enthousiaste! De quoi aimeriez-vous parler aujourd'hui?\n",
      "user Je veux parler de mes hobbies. J'aime faire de la randonnée et photographie des paysages.\n",
      "assistant C'est formidable! Mais attention, vous avez utilisé une petite erreur. On dit \"photographier\" au lieu de \"photographie.\" Donc, vous diriez \"j'aime faire de la randonnée et photographier des paysages.\" Quels types de paysages aimez-vous photographier?\n",
      "user J'aime photographier les montagnes et les forêts. Parfois, je vais à la plage pour voir les oiseaux et prendre des photos aussi.\n",
      "assistant C'est magnifique! Juste une petite correction: vous devriez dire \"aller à la plage\" au lieu de \"aller à le plage.\" Les noms en français, comme \"plage,\" ont des articles qui changent. Quelles sont vos endroits préférés pour aller en randonnée?\n",
      "user Je préfère aller aux collines près de ma maison, c'est tranquille et beau. Quand je suis là, je fais beaucoup de... hmm... comment dit-on \"walking\"?\n",
      "assistant On dit \"marcher\" en français! Donc vous pourriez dire: \"je fais beaucoup de marche.\" Quels sont vos endroits préférés en Estonie pour marcher?\n",
      "user Il y a beaucoup d'endroits, mais mon préféré est un lac où je vais souvent. J'aime nager, mais je ne peux pas nager en hiver.\n",
      "assistant C'est génial! Mais en français, on dirait plutôt \"l'été\" si vous parlez de l'été. Vous avez bien dit que vous aimez nager, mais en hiver, il peut faire très froid! Vous aimez d'autres activités en hiver?\n",
      "user Oui, j'aime faire du ski et d'autres loisirs dehors. C'est ça que j'adore! Et vous, qu'est-ce que vous aimez faire?\n",
      "assistant J'adore skier aussi, surtout dans les montagnes. Et j'aime la lecture et écouter de la musique. Avez-vous des artistes ou des livres préférés en français?\n",
      "user Oui, j'écoute souvent des chansons de Edith Piaf. Son musique est très belle!\n",
      "assistant Excellente choix! Mais attention, vous devriez dire \"sa musique\" au lieu de \"son musique.\" Sa musique est effectivement très belle! Avez-vous appris des phrases françaises en écoutant ses chansons?\n"
     ]
    }
   ],
   "source": [
    "for message in conversation.conversation:\n",
    "    print(message.role, message.content)"
   ]
  },
  {
   "cell_type": "code",
   "execution_count": 81,
   "metadata": {},
   "outputs": [
    {
     "data": {
      "text/plain": [
       "Mistake(mistake=Vocabulary(vocabulary_term='photographie', explanation_of_error='L\\'apprenant a utilisé le terme incorrect \"photographie\" au lieu du verbe \"photographier.\"', incorrect_vocabulary_example='\"J\\'aime faire de la randonnée et photographie des paysages.\"', usage_examples=[\"J'aime photographier des oiseaux pendant mes promenades.\", 'Elle adore photographier les éléments de la nature.', 'Nous avons photographié les aurores boréales.']), citation=\"Je veux parler de mes hobbies. J'aime faire de la randonnée et photographie des paysages.\")"
      ]
     },
     "execution_count": 81,
     "metadata": {},
     "output_type": "execute_result"
    }
   ],
   "source": [
    "errors = conversation.mistake_breakdown\n",
    "errors[0]"
   ]
  },
  {
   "cell_type": "markdown",
   "metadata": {},
   "source": [
    "# Generating Positive examples\n",
    "\n",
    "Let's now try to generate some good positive examples of conversations given specific mistakes that we identified previously"
   ]
  },
  {
   "cell_type": "code",
   "execution_count": 59,
   "metadata": {},
   "outputs": [],
   "source": [
    "class GoodConversationExample(BaseModel):\n",
    "    conversation:list[Message]\n",
    "    \n",
    "    @field_validator(\"conversation\")\n",
    "    @classmethod\n",
    "    def validate_valid_structure(cls, v:list[Message]):\n",
    "        if len(v) < 2:\n",
    "            raise ValueError(\"Conversation must have at least 3 messages where assistant and user roles alternate\")\n",
    "        \n",
    "        if v[0].role == \"assistant\":\n",
    "            raise ValueError(\"Conversation must start with a user message\")\n",
    "\n",
    "        expected_role:roles = \"user\"\n",
    "        for message in v:\n",
    "            if message.role != expected_role:\n",
    "                raise ValueError(\"Messages must alternate between assistant and user roles\")\n",
    "            expected_role = \"assistant\" if expected_role == \"user\" else \"user\"\n",
    "\n",
    "        return v"
   ]
  },
  {
   "cell_type": "code",
   "execution_count": 87,
   "metadata": {},
   "outputs": [],
   "source": [
    "from typing import Union\n",
    "\n",
    "async def generate_good_conversation(error: Union[GrammaticalError, Vocabulary]) -> GoodConversationExample:\n",
    "    import random\n",
    "\n",
    "    time_of_day = [\"morning\", \"night\", \"afternoon\", \"dawn\", \"dusk\", \"midday\", \"evening\", \"sunrise\", \"sunset\", \"noon\"]\n",
    "    weather = [\"sunny\", \"cloudy\", \"rainy\", \"snowy\", \"windy\", \"foggy\", \"stormy\", \"humid\", \"frosty\", \"hazy\"]\n",
    "    drink_of_choice = [\"coffee\", \"tea\", \"chai\", \"vodka\", \"sprite\", \"gin and tonic\", \"water\", \"juice\", \"hot chocolate\", \"lemonade\"]\n",
    "    situation = [\"Buying something\", \"Selling Something\", \"Running late\", \"Going to a restaurant\", \"Going to a bar\", \"Going to a cafe\", \"Meeting a friend\", \"Asking for directions\", \"Making a reservation\", \"Ordering food\"]\n",
    "\n",
    "    if isinstance(error, GrammaticalError):\n",
    "        verb = error.root_verb\n",
    "        negative_example = error.incorrect_usage_example\n",
    "        positive_example = error.correct_example\n",
    "    elif isinstance(error, Vocabulary):\n",
    "        verb = error.vocabulary_term\n",
    "        negative_example = error.incorrect_vocabulary_example\n",
    "        positive_example = error.usage_examples\n",
    "    else:\n",
    "        raise ValueError(\"Unsupported error type\")\n",
    "\n",
    "    prompt = f\"\"\"Simulate a natural conversation between a French language learner and a native speaker that demonstrates the correct usage of the verb '{verb}'. \n",
    "    You may optionally incorporate some or all of these elements: time of day ({random.choice(time_of_day)}), a drink of choice ({random.choice(drink_of_choice)}), or a situation ({random.choice(situation)}). \n",
    "    The conversation should mimic something that might happen in real life. \n",
    "    As a negative example, avoid using the incorrect phrase '{negative_example}' \n",
    "    Instead, show the correct usage: '{positive_example}' \n",
    "    Provide positive examples that showcase proper conjugation and idiomatic expressions with '{verb}'. \n",
    "    The conversation should feel authentic and cover everyday situations where '{verb}' is commonly used.\"\"\"\n",
    "\n",
    "    good_convo = await client.chat.completions.create(\n",
    "        messages=[\n",
    "            {\n",
    "                \"role\": \"system\",\n",
    "                \"content\": prompt\n",
    "            }\n",
    "        ],\n",
    "        model=\"gpt-4o-mini\",\n",
    "        response_model=GoodConversationExample\n",
    "    )\n",
    "    \n",
    "    return good_convo\n"
   ]
  },
  {
   "cell_type": "code",
   "execution_count": 86,
   "metadata": {},
   "outputs": [
    {
     "data": {
      "text/plain": [
       "GoodConversationExample(conversation=[Message(role='user', content='Salut ! Quelque chose de prévu pour ce soir ?'), Message(role='assistant', content=\"Salut ! Pas grand-chose, je pensais m'installer avec un bon café et peut-être photographier le coucher de soleil au bar près de la rivière.\"), Message(role='user', content=\"Ça a l'air super ! J'aime photographier les oiseaux pendant mes promenades.\"), Message(role='assistant', content=\"Ah oui ? Quel genre d'oiseaux aimes-tu photographier ?\"), Message(role='user', content=\"Surtout les canards et les hirondelles. J'ai toujours voulu essayer de photographier des animaux sauvages.\"), Message(role='assistant', content=\"C'est une bonne idée ! Elle adore photographier les éléments de la nature pendant ses voyages.\"), Message(role='user', content=\"C'est vrai, la nature offre de si belles occasions. Peut-être qu'on pourrait y aller ensemble un jour.\"), Message(role='assistant', content=\"Oui, avec plaisir ! Nous avons photographié les aurores boréales l'année dernière. C'était incroyable.\"), Message(role='user', content=\"Vraiment ? Ça doit être spectaculaire. J'aimerais bien voir ça un jour.\"), Message(role='assistant', content='Tu devrais ! Ça fait de superbes photos.')])"
      ]
     },
     "execution_count": 86,
     "metadata": {},
     "output_type": "execute_result"
    }
   ],
   "source": [
    "await generate_good_conversation(errors[0].mistake)"
   ]
  },
  {
   "cell_type": "code",
   "execution_count": 88,
   "metadata": {},
   "outputs": [
    {
     "data": {
      "text/plain": [
       "GoodConversationExample(conversation=[Message(role='user', content='Salut! Que fais-tu ce soir?'), Message(role='assistant', content='Salut! J’ retourne à la maison après le travail. Et toi, que vas-tu faire?'), Message(role='user', content='Je vais à la plage pour voir le coucher de soleil.'), Message(role='assistant', content=\"Ah, ça a l'air génial! Tu veux prendre un café avant d’y aller?\"), Message(role='user', content='Oui, je vais prendre un café. Est-ce que tu veux venir avec moi?'), Message(role='assistant', content='Bien sûr! Je vais au café en face de la plage.'), Message(role='user', content='Parfait! On y va ensemble alors.'), Message(role='assistant', content=\"D'accord, allons-y! Après, nous pourrons acheter quelque chose à manger sur le chemin.\"), Message(role='user', content='Bonne idée! Je vais prendre un croissant.'), Message(role='assistant', content='Moi aussi, je vais prendre un croissant.'), Message(role='user', content='Super! Allons-y!')])"
      ]
     },
     "execution_count": 88,
     "metadata": {},
     "output_type": "execute_result"
    }
   ],
   "source": [
    "await generate_good_conversation(errors[1].mistake)"
   ]
  }
 ],
 "metadata": {
  "kernelspec": {
   "display_name": "venv",
   "language": "python",
   "name": "python3"
  },
  "language_info": {
   "codemirror_mode": {
    "name": "ipython",
    "version": 3
   },
   "file_extension": ".py",
   "mimetype": "text/x-python",
   "name": "python",
   "nbconvert_exporter": "python",
   "pygments_lexer": "ipython3",
   "version": "3.11.9"
  }
 },
 "nbformat": 4,
 "nbformat_minor": 2
}
